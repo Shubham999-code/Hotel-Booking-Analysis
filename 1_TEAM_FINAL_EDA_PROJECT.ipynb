{
  "nbformat": 4,
  "nbformat_minor": 0,
  "metadata": {
    "colab": {
      "private_outputs": true,
      "provenance": [],
      "collapsed_sections": [
        "gIfDvo9L0UH2"
      ],
      "include_colab_link": true
    },
    "kernelspec": {
      "name": "python3",
      "display_name": "Python 3"
    },
    "language_info": {
      "name": "python"
    },
    "gpuClass": "standard"
  },
  "cells": [
    {
      "cell_type": "markdown",
      "metadata": {
        "id": "view-in-github",
        "colab_type": "text"
      },
      "source": [
        "<a href=\"https://colab.research.google.com/github/Shubham999-code/Hotel-Booking-Analysis/blob/main/1_TEAM_FINAL_EDA_PROJECT.ipynb\" target=\"_parent\"><img src=\"https://colab.research.google.com/assets/colab-badge.svg\" alt=\"Open In Colab\"/></a>"
      ]
    },
    {
      "cell_type": "markdown",
      "source": [
        "# **Project Name** - Hotel Booking Analysis\n"
      ],
      "metadata": {
        "id": "vncDsAP0Gaoa"
      }
    },
    {
      "cell_type": "markdown",
      "source": [
        "##### **Project Type**    - EDA\n",
        "##### **Contribution**    -Team\n",
        "##### **Team Member 1 -*Tabassum Patel (Team Leader)*\n",
        "##### **Team Member 2 -*Shubham Kodape*\n",
        "##### **Team Member 3 -*Asma Patel*\n",
        "##### **Team Member 4 -*anuja Ghotekar*\n",
        "##### **Team Member 5 -*Pratiksha Auti*  "
      ],
      "metadata": {
        "id": "beRrZCGUAJYm"
      }
    },
    {
      "cell_type": "markdown",
      "source": [
        "# **Project Summary -**"
      ],
      "metadata": {
        "id": "FJNUwmbgGyua"
      }
    },
    {
      "cell_type": "markdown",
      "source": [
        "We first decided to take up this project solely due to our diffrent point of views about hotel bookings and try to solve the problems and erros during making of individual colab.But when we downloaded the project we was shocked to see so many complex data in csv file.we had no idea what to do with them, how do we start to make our projetc with them,from where to start.Then we decided to divide the csv file with each team members(5 members) and first we all are worked individually and takes all the datas which is present in csv file by link and address of the csv file to the our individual project google colab notebook and doing some eda and other stuff we have done step by step and which we explain in below as follows.\n",
        "\n",
        "1.first I took hotal bookings.csv file and link to our individual colab notebook to grab all the data of csv.\n",
        "\n",
        "2.creating data(data frame) using csv file.csv-comma seperated values.\n",
        "\n",
        "3.then we apply numpy arrays whose have an attribute called .shape that returns a tuple with each index having the number of corresponding elements.\n",
        "\n",
        "4.apply head() function in python which displays the first five rows of the dataframe by default,with transpose() were it is moving the rows data to column and column to rows 'T' is for rows to columns and columns to rows.\n",
        "\n",
        "5.use tail() function for displaying last five rows and columns of the dataframe by default.\n",
        "\n",
        "6.apply The info() method that gives prints information about the DataFrame.\n",
        "\n",
        "7.apply The describe() method that returns description of the data in the DataFrame.\n",
        "\n",
        "8.apply The columns property that returns the label of each column in the DataFrame.\n",
        "\n",
        "after all this functions we were discuss about the type of questions that comes in our mind when we book room in hotel and other stuff. we are found some intresting questions which are almost 20 questions and then filter out them and we got 10 best questions but we all are littel bit confused that to whom to give the questions.finally we decide and share all the questions to each team member.\n",
        "\n",
        "the questions are divided in each team member as follows.\n",
        "\n",
        "team members:\n",
        "\n",
        "1.Tabassum muneer patel (team leader):\n",
        "\n",
        "a>.How long do people stay at the hotels?\n",
        "\n",
        "b>.What is the percentage of bookings in each hotel?\n",
        "\n",
        "2.Shubham kodape:\n",
        "\n",
        "a>.Which agent makes most no. of bookings?\n",
        "\n",
        "b>.Which meal type is most preffered meal of customers?\n",
        "\n",
        "c>.Which is the most common channel for booking hotels?\n",
        "\n",
        "3>.Anuja ghotekar:\n",
        "\n",
        "a>.Which room type is in most demand and which room type generates highest adr?\n",
        "\n",
        "b>.From where most guests are coming?\n",
        "\n",
        "c>.Which hotel has higher lead time?\n",
        "\n",
        "d>.which hotel seems to make more revenue?\n",
        "\n",
        "e>.Which significant distribution channel has highest cancellation percentage?\n",
        "\n",
        "4>.Pratiksha auti jadhav:\n",
        "\n",
        "a>.which channel is mostly used for early booking of hotels?\n",
        "\n",
        "b>.which channel has longer average waiting time?\n",
        "\n",
        "5>.Asma Patel:\n",
        "\n",
        "a>.Which hotel has longer waiting time?\n",
        "\n",
        "b>.Which hotel has higher bookings cancellation rate?\n",
        "\n",
        "After doing some random EDAs.we gained some confidence.\n",
        "\n",
        "Then we decided to do some team wise analysis.For which each member took help of a bar chart and some lineplots.we made a DataFrame of which agent makes most number of bookings and dataframe of Which meal type is most preffered meal of customers?. make a Pie Chart for better visualisation.\n",
        "\n",
        "We also realise that the high rate of cancellations can be due high no deposit policies.\n",
        "\n",
        "Majority of the hotels booked are city hotel. Definitely need to spend the most targeting fund on those hotel.\n",
        "\n",
        "this is the best EDA that we did in teamwork and memorable experience for us in this project."
      ],
      "metadata": {
        "id": "F6v_1wHtG2nS"
      }
    },
    {
      "cell_type": "markdown",
      "source": [
        "# **GitHub Link -**"
      ],
      "metadata": {
        "id": "w6K7xa23Elo4"
      }
    },
    {
      "cell_type": "markdown",
      "source": [
        "https://github.com/Shubham999-code/hotel-booking-analysis-"
      ],
      "metadata": {
        "id": "cyIJPcntVPok"
      }
    },
    {
      "cell_type": "markdown",
      "source": [
        "# **Problem Statement**\n"
      ],
      "metadata": {
        "id": "yQaldy8SH6Dl"
      }
    },
    {
      "cell_type": "markdown",
      "source": [
        "Have you ever wondered when the best time of year to book a hotel room is? Or the optimal length of stay in order to get the best daily rate? What if you wanted to predict whether or not a hotel was likely to receive a disproportionately high number of special requests? This hotel booking dataset can help you explore those questions!\n",
        "This data set contains booking information for a city hotel and a resort hotel, and includes information such as when the booking was made, length of stay, the number of adults, children, and/or babies, and the number of available parking spaces, among other things. All personally identifying information has been removed from the data.\n",
        "Explore and analyze the data to discover important factors that govern the bookings."
      ],
      "metadata": {
        "id": "DpeJGUA3kjGy"
      }
    },
    {
      "cell_type": "markdown",
      "source": [
        "#### **Define Your Business Objective?**"
      ],
      "metadata": {
        "id": "PH-0ReGfmX4f"
      }
    },
    {
      "cell_type": "markdown",
      "source": [
        "1.Our main objective is perform EDA on the given dataset and draw useful conclusions about general trends in hotel bookings and how factors governing hotel bookings interact with each other.\n",
        "\n",
        "2.to understand and visualize dataset from hotel and customer point of view i.e. and give suggestions to reduce these cancellations and increase revenue of hotels.\n",
        "\n",
        "3.This makes analyzing the patterns available in the past data more important to help the hotels plan better.\n",
        "\n",
        "4.A hotel reservation system enables guests to schedule dates and length of stay, room selection, extras, and payment all in one place.\n",
        "\n",
        "5.to provide the best service and a excillent experience to customers from start to finish.\n",
        "\n",
        "6.An online booking system gives you the freedom of taking bookings 24/7.\n",
        "\n",
        "7.The five key business performance objectives for any organization include quality, speed, dependability, flexibility, and cost.\n",
        "\n",
        "8.This data set contains booking information for a city hotel and a resort hotel and includes information such as when the booking was made, length of stay, the number of adults, children, and/or babies, and the number of available parking spaces, among other things. All personally identifying information has from the data.\n",
        "\n",
        "9.To predict which kind of customers need special request and predicting the possibility of a booking for a hotel by knowing different features. This will help the hotel booking company to make better decisions.\n",
        "\n",
        "10.To present the hotel as an excellent, or the best, choice to its target market.\n",
        "\n",
        "11.To make it easy for customers to make reservations.\n",
        "\n",
        "12.To make it easy for customers to get their questions answered, lowering barriers to selecting this chain's hotels.\n",
        "\n",
        "13.To fill as many rooms as possible at a relatively high rate.\n",
        "\n",
        "14.Ease of information gathering in support of selecting a hotel.\n",
        "\n",
        "15.Accurate, reliable reservations.\n",
        "\n",
        "16.Efficiency of booking, especially for repeat customers."
      ],
      "metadata": {
        "id": "PhDvGCAqmjP1"
      }
    },
    {
      "cell_type": "markdown",
      "source": [
        "## ***1. About Data***"
      ],
      "metadata": {
        "id": "HhfV-JJviCcP"
      }
    },
    {
      "cell_type": "markdown",
      "source": [
        "### Import Libraries"
      ],
      "metadata": {
        "id": "Y3lxredqlCYt"
      }
    },
    {
      "cell_type": "code",
      "source": [
        "# Import Libraries\n",
        "import numpy as np\n",
        "import pandas as pd\n",
        "import matplotlib\n",
        "import matplotlib.pyplot as plt\n",
        "import seaborn as sns\n"
      ],
      "metadata": {
        "id": "M8Vqi-pPk-HR"
      },
      "execution_count": null,
      "outputs": []
    },
    {
      "cell_type": "markdown",
      "source": [
        "import numpy as np\n",
        "import pandas as pd\n",
        "import matplotlib\n",
        "import matplotlib.pyplot as plt\n",
        "import seaborn as sns"
      ],
      "metadata": {
        "id": "2Y0vvHk9Rp5m"
      }
    },
    {
      "cell_type": "markdown",
      "source": [
        "### Dataset Loading"
      ],
      "metadata": {
        "id": "3RnN4peoiCZX"
      }
    },
    {
      "cell_type": "code",
      "source": [
        "# Load Dataset\n",
        "from google.colab import drive                    # Mounting drive\n",
        "drive.mount('/content/drive')"
      ],
      "metadata": {
        "id": "4CkvbW_SlZ_R"
      },
      "execution_count": null,
      "outputs": []
    },
    {
      "cell_type": "code",
      "source": [],
      "metadata": {
        "id": "-TN3Gqu0ylAe"
      },
      "execution_count": null,
      "outputs": []
    },
    {
      "cell_type": "markdown",
      "source": [
        "### Dataset First View"
      ],
      "metadata": {
        "id": "x71ZqKXriCWQ"
      }
    },
    {
      "cell_type": "code",
      "source": [
        "# Dataset First Look\n",
        "#Let us read our data first\n",
        "#loading csv file\n",
        "file_path ='/content/Hotel Bookings.csv'\n",
        "#creating a data 'df' using read_csv | csv-comma seperated values \n",
        "hotel_booking_df=pd.read_csv(file_path)\n",
        "\n",
        "df1 =hotel_booking_df.copy()"
      ],
      "metadata": {
        "id": "LWNFOSvLl09H"
      },
      "execution_count": null,
      "outputs": []
    },
    {
      "cell_type": "code",
      "source": [
        "# head will display top 5 rows (by  default)\n",
        "hotel_booking_df.head().T    # T is for rows to columns and columns to rows"
      ],
      "metadata": {
        "id": "lAkG5EFZVVP5"
      },
      "execution_count": null,
      "outputs": []
    },
    {
      "cell_type": "code",
      "source": [
        "hotel_booking_df.tail()"
      ],
      "metadata": {
        "id": "jFhvF921Vdd9"
      },
      "execution_count": null,
      "outputs": []
    },
    {
      "cell_type": "markdown",
      "source": [
        "### Dataset Rows & Columns count"
      ],
      "metadata": {
        "id": "7hBIi_osiCS2"
      }
    },
    {
      "cell_type": "code",
      "source": [
        "# shape gives us number of rows and columns\n",
        "hotel_booking_df.shape"
      ],
      "metadata": {
        "id": "Bip6P5zsW8fj"
      },
      "execution_count": null,
      "outputs": []
    },
    {
      "cell_type": "markdown",
      "source": [
        "### Dataset Information"
      ],
      "metadata": {
        "id": "JlHwYmJAmNHm"
      }
    },
    {
      "cell_type": "code",
      "source": [
        "# Dataset Info\n",
        "hotel_booking_df.info()"
      ],
      "metadata": {
        "id": "_8Ut5Evo7xZz"
      },
      "execution_count": null,
      "outputs": []
    },
    {
      "cell_type": "markdown",
      "source": [
        "#### Duplicate Values"
      ],
      "metadata": {
        "id": "35m5QtbWiB9F"
      }
    },
    {
      "cell_type": "markdown",
      "source": [
        "Cleaning data is crucial step before EDA as it will remove the ambigous data that can affect the outcome of EDA.\n",
        "\n",
        "While cleaning data we will perform following step\n",
        "\n",
        "1) Remove duplicate rows\n",
        "\n",
        "2) Handling missing values.\n",
        "\n",
        "3) Convert columns to appropriate datatypes.\n",
        "\n",
        "4) Adding important columns"
      ],
      "metadata": {
        "id": "1besoSo9eSiJ"
      }
    },
    {
      "cell_type": "markdown",
      "source": [
        "### <b> Step 1: Removing duplicate rows if any </b>"
      ],
      "metadata": {
        "id": "_CXxGztATDXE"
      }
    },
    {
      "cell_type": "code",
      "source": [
        "# Dataset Duplicate Value Count\n",
        "hotel_booking_df[hotel_booking_df.duplicated()].shape"
      ],
      "metadata": {
        "id": "w-53O86-damK"
      },
      "execution_count": null,
      "outputs": []
    },
    {
      "cell_type": "code",
      "source": [
        "# Dropping duplicate values\n",
        "hotel_booking_df.drop_duplicates(inplace = True)"
      ],
      "metadata": {
        "id": "XXQx4ryCdpMj"
      },
      "execution_count": null,
      "outputs": []
    },
    {
      "cell_type": "code",
      "source": [
        "hotel_booking_df.shape"
      ],
      "metadata": {
        "id": "7uFeteDrds1F"
      },
      "execution_count": null,
      "outputs": []
    },
    {
      "cell_type": "markdown",
      "source": [
        "### <b> Step2: Handling missing values. </b>"
      ],
      "metadata": {
        "id": "JK1JmbupWL79"
      }
    },
    {
      "cell_type": "code",
      "source": [
        "# Columns having missing values.\n",
        "df1.isnull().sum().sort_values(ascending = False)[:6]"
      ],
      "metadata": {
        "id": "NRe5UnFJWSK2"
      },
      "execution_count": null,
      "outputs": []
    },
    {
      "cell_type": "markdown",
      "source": [
        "Since, company and agent columns have comany number and agent numbers as data. There may be some cases when customer didnt booked hotel via any agent or via any company. So in that case values can be null under these columns. \\\n",
        "We will replace null values by 0 in these columns "
      ],
      "metadata": {
        "id": "T-4uQUhlXxVU"
      }
    },
    {
      "cell_type": "code",
      "source": [
        "df1[['company','agent']] = df1[['company','agent']].fillna(0)"
      ],
      "metadata": {
        "id": "8gmRC16gWSH2"
      },
      "execution_count": null,
      "outputs": []
    },
    {
      "cell_type": "code",
      "source": [
        "df1['children'].unique()"
      ],
      "metadata": {
        "id": "CXF7mztlbmGr"
      },
      "execution_count": null,
      "outputs": []
    },
    {
      "cell_type": "markdown",
      "source": [
        "This column 'children' has 0 as value which means 0 children were present in group of customers who made that transaction. \\\n",
        "So, 'nan' values are the missing values due to error of recording data. \\\n",
        " \\\n",
        "We will replace the null values under this column with mean value of children."
      ],
      "metadata": {
        "id": "bYeTgLGAai7N"
      }
    },
    {
      "cell_type": "code",
      "source": [
        "df1['children'].fillna(df1['children'].mean(), inplace = True)"
      ],
      "metadata": {
        "id": "UCH87STXWSFx"
      },
      "execution_count": null,
      "outputs": []
    },
    {
      "cell_type": "markdown",
      "source": [
        "Next column with missing value is 'country'.\n",
        "This column represents the country of oriigin of customer. \\\n",
        "Since, this column has datatype of string. We will replace the missing value with the mode of 'country' column."
      ],
      "metadata": {
        "id": "VKF1hhpMcYsZ"
      }
    },
    {
      "cell_type": "code",
      "source": [
        "df1['country'].fillna('others', inplace = True)"
      ],
      "metadata": {
        "id": "kYKKRfvUWSDf"
      },
      "execution_count": null,
      "outputs": []
    },
    {
      "cell_type": "code",
      "source": [
        "# Checking if all null values are removed\n",
        "df1.isnull().sum().sort_values(ascending = False)[:6]"
      ],
      "metadata": {
        "id": "mVcsA88bc2PU"
      },
      "execution_count": null,
      "outputs": []
    },
    {
      "cell_type": "markdown",
      "source": [
        "There are some rows with total number of adults, children or babies equal to zero. So we will remove such rows."
      ],
      "metadata": {
        "id": "P7aQSKz4Bhe1"
      }
    },
    {
      "cell_type": "code",
      "source": [
        "df1[df1['adults']+df1['babies']+df1['children'] == 0].shape"
      ],
      "metadata": {
        "id": "zStRIFi8BDKE"
      },
      "execution_count": null,
      "outputs": []
    },
    {
      "cell_type": "code",
      "source": [
        "df1.drop(df1[df1['adults']+df1['babies']+df1['children'] == 0].index, inplace = True)"
      ],
      "metadata": {
        "id": "Fagd-ZT8Bs9i"
      },
      "execution_count": null,
      "outputs": []
    },
    {
      "cell_type": "markdown",
      "source": [
        "#### Missing Values/Null Values"
      ],
      "metadata": {
        "id": "PoPl-ycgm1ru"
      }
    },
    {
      "cell_type": "code",
      "source": [
        "# Missing Values/Null Values Count\n",
        "\n",
        "# Columns having missing values.\n",
        "df1.isnull().sum().sort_values(ascending = False)[:6]"
      ],
      "metadata": {
        "id": "GgHWkxvamxVg"
      },
      "execution_count": null,
      "outputs": []
    },
    {
      "cell_type": "markdown",
      "source": [
        "Since, company and agent columns have comany number and agent numbers as data. There may be some cases when customer didnt booked hotel via any agent or via any company. So in that case values can be null under these columns.\n",
        "We will replace null values by 0 in these columns\n",
        "\n"
      ],
      "metadata": {
        "id": "qVpQ_Hpld-Jp"
      }
    },
    {
      "cell_type": "code",
      "source": [
        "df1[['company','agent']] = df1[['company','agent']].fillna(0)"
      ],
      "metadata": {
        "id": "tqC_R2W-g-T7"
      },
      "execution_count": null,
      "outputs": []
    },
    {
      "cell_type": "code",
      "source": [
        "df1['children'].unique()"
      ],
      "metadata": {
        "id": "fP3CVc8HhA_W"
      },
      "execution_count": null,
      "outputs": []
    },
    {
      "cell_type": "markdown",
      "source": [
        "This column 'children' has 0 as value which means 0 children were present in group of customers who made that transaction.\n",
        "So, 'nan' values are the missing values due to error of recording data.\n",
        "\n",
        "We will replace the null values under this column with mean value of children."
      ],
      "metadata": {
        "id": "sbDYP04ShRWv"
      }
    },
    {
      "cell_type": "code",
      "source": [
        "df1['children'].fillna(df1['children'].mean(), inplace = True)"
      ],
      "metadata": {
        "id": "vUyxGvy2hURi"
      },
      "execution_count": null,
      "outputs": []
    },
    {
      "cell_type": "markdown",
      "source": [
        "Next column with missing value is 'country'. This column represents the country of oriigin of customer.\n",
        "Since, this column has datatype of string. We will replace the missing value with the mode of 'country' column."
      ],
      "metadata": {
        "id": "RRfhC2W2hgVh"
      }
    },
    {
      "cell_type": "code",
      "source": [
        "df1['country'].fillna('others', inplace = True)"
      ],
      "metadata": {
        "id": "r4RCDs-egkqW"
      },
      "execution_count": null,
      "outputs": []
    },
    {
      "cell_type": "code",
      "source": [
        "# Visualizing the missing values\n",
        "\n",
        "#Checking if all null values are removed\n",
        "df1.isnull().sum().sort_values(ascending = False)[:6]\n"
      ],
      "metadata": {
        "id": "3q5wnI3om9sJ"
      },
      "execution_count": null,
      "outputs": []
    },
    {
      "cell_type": "markdown",
      "source": [
        "There are some rows with total number of adults, children or babies equal to zero. So we will remove such rows.\n",
        "\n"
      ],
      "metadata": {
        "id": "Q9f3UA40hwxx"
      }
    },
    {
      "cell_type": "code",
      "source": [
        "df1[df1['adults']+df1['babies']+df1['children'] == 0].shape"
      ],
      "metadata": {
        "id": "o4k8Wz-ih6lt"
      },
      "execution_count": null,
      "outputs": []
    },
    {
      "cell_type": "code",
      "source": [
        "df1.drop(df1[df1['adults']+df1['babies']+df1['children'] == 0].index, inplace = True)"
      ],
      "metadata": {
        "id": "zwCjiLP9iApp"
      },
      "execution_count": null,
      "outputs": []
    },
    {
      "cell_type": "markdown",
      "source": [
        "### <b> Step 3: Converting columns to appropriate datatypes. </b>"
      ],
      "metadata": {
        "id": "yhoku2ytUsQ8"
      }
    },
    {
      "cell_type": "code",
      "source": [
        "# Converting datatype of columns 'children', 'company' and 'agent' from float to int.\n",
        "df1[['children', 'company', 'agent']] = df1[['children', 'company', 'agent']].astype('int64')\n"
      ],
      "metadata": {
        "id": "0sVsZRZhUnab"
      },
      "execution_count": null,
      "outputs": []
    },
    {
      "cell_type": "code",
      "source": [
        "# changing datatype of column 'reservation_status_date' to data_type.\n",
        "df1['reservation_status_date'] = pd.to_datetime(df1['reservation_status_date'], format = '%Y-%m-%d')"
      ],
      "metadata": {
        "id": "wFjq_FVXV6Br"
      },
      "execution_count": null,
      "outputs": []
    },
    {
      "cell_type": "markdown",
      "source": [
        "### <b> Step 4: Adding important columns. </b>"
      ],
      "metadata": {
        "id": "7oFW8dNw0Z6b"
      }
    },
    {
      "cell_type": "code",
      "source": [
        "# Adding total staying days in hotels\n",
        "df1['total_stay'] = df1['stays_in_weekend_nights']+df1['stays_in_week_nights']\n",
        "\n",
        "# Adding total people num as column, i.e. total people num = num of adults + children + babies\n",
        "df1['total_people'] = df1['adults']+df1['children']+df1['babies']"
      ],
      "metadata": {
        "id": "FWUDJp-5imPZ"
      },
      "execution_count": null,
      "outputs": []
    },
    {
      "cell_type": "markdown",
      "source": [
        "### What did you know about your dataset?"
      ],
      "metadata": {
        "id": "H0kj-8xxnORC"
      }
    },
    {
      "cell_type": "markdown",
      "source": [
        "Dataset Description:\n",
        "hotel: Name of hotel ( City or Resort).\n",
        "\n",
        "is_canceled: Whether the booking is canceled or not (0 for\n",
        "no canceled and 1 for canceled).\n",
        "\n",
        "lead_time: time (in days) between booking transaction and * actual arrival.\n",
        "\n",
        "arrival_date_year: Year of arrival\n",
        "\n",
        "arrival_date_month: month of arrival.\n",
        "\n",
        "arrival_date_week_number: week number of arrival date.\n",
        "\n",
        "arrival_date_day_of_month: Day of month of arrival date.\n",
        "\n",
        "stays_in_weekend_nights: No. of weekend nights spent in a hotel.\n",
        "\n",
        "stays_in_week_nights: No. of weeknights spent in a hotel.\n",
        "\n",
        "adults: No. of adults in single booking record.\n",
        "\n",
        "children: No. of children in single booking record.\n",
        "\n",
        "babies: No. of babies in single booking record.\n",
        "\n",
        "meal: Type of meal chosen.\n",
        "\n",
        "country: Country of origin of customers (as mentioned by them).\n",
        "\n",
        "market_segment: What segment via booking was made and for what purpose.\n",
        "\n",
        "distribution_channel: Via which medium booking was made.\n",
        "\n",
        "is_repeated_guest: Whether the customer has made any booking before(0 for No and 1 for Yes).\n",
        "\n",
        "previous_cancellations: No. of previous canceled bookings.\n",
        "\n",
        "previous_bookings_not_canceled: No. of previous non-canceled bookings.\n",
        "\n",
        "reserved_room_type: Room type reserved by a customer.\n",
        "\n",
        "assigned_room_type: Room type assigned to the customer.\n",
        "\n",
        "booking_changes: No. of booking changes done by customers.\n",
        "\n",
        "deposit_type: Type of deposit at the time of making a\n",
        "booking (No deposit/ Refundable/ No refund).\n",
        "\n",
        "agent: Id of agent for booking.\n",
        "\n",
        "company: Id of the company making a booking.\n",
        "\n",
        "days_in_waiting_list: No. of days on waiting list.\n",
        "\n",
        "customer_type: Type of customer(Transient, Group, etc.)\n",
        "\n",
        "adr: Average Daily rate.\n",
        "\n",
        "required_car_parking_spaces: No. of car parking asked in booking.\n",
        "\n",
        "total_of_special_requests: total no. of special request.\n",
        "\n",
        "reservation_status: Whether a customer has checked out or canceled,or not showed.\n",
        "\n",
        "reservation_status_date: Date of making reservation status.\n",
        "\n",
        "\n"
      ],
      "metadata": {
        "id": "gfoNAAC-nUe_"
      }
    },
    {
      "cell_type": "markdown",
      "source": [
        "## ***2. Understanding our Variables***"
      ],
      "metadata": {
        "id": "nA9Y7ga8ng1Z"
      }
    },
    {
      "cell_type": "code",
      "source": [
        "# Dataset Columns\n",
        "hotel_booking_df.columns"
      ],
      "metadata": {
        "id": "j7xfkqrt5Ag5"
      },
      "execution_count": null,
      "outputs": []
    },
    {
      "cell_type": "markdown",
      "source": [],
      "metadata": {
        "id": "Jakw5f-EjilI"
      }
    },
    {
      "cell_type": "code",
      "source": [
        "# Dataset Describe\n",
        "hotel_booking_df.describe()"
      ],
      "metadata": {
        "id": "DnOaZdaE5Q5t"
      },
      "execution_count": null,
      "outputs": []
    },
    {
      "cell_type": "markdown",
      "source": [
        "### Variables Description "
      ],
      "metadata": {
        "id": "PBTbrJXOngz2"
      }
    },
    {
      "cell_type": "markdown",
      "source": [
        "1.first we understand the nature of dataset then take a variable called hotel_booking_df and apply a .columns property which returns the label of each column in the DataFrame were it fecthing all the csv data called hotel bookings and give output in the form of columns.\n",
        "\n",
        "2.in other dataset we are using same variable known as hotel_booking_df and using .describe() method which returns description of the data in the DataFrame and it fecting all the csv data which is hotel bookings so that it give output in descriptive way."
      ],
      "metadata": {
        "id": "aJV4KIxSnxay"
      }
    },
    {
      "cell_type": "markdown",
      "source": [
        "### Check Unique Values for each variable."
      ],
      "metadata": {
        "id": "u3PMJOP6ngxN"
      }
    },
    {
      "cell_type": "code",
      "source": [
        "# Check Unique Values for each variable.\n",
        "df1['hotel'].unique()"
      ],
      "metadata": {
        "id": "zms12Yq5n-jE"
      },
      "execution_count": null,
      "outputs": []
    },
    {
      "cell_type": "code",
      "source": [
        "df1['is_canceled'].unique()"
      ],
      "metadata": {
        "id": "npHqbS8qkHY1"
      },
      "execution_count": null,
      "outputs": []
    },
    {
      "cell_type": "code",
      "source": [
        "df1['arrival_date_year'].unique()"
      ],
      "metadata": {
        "id": "S1k7rfi_kMO2"
      },
      "execution_count": null,
      "outputs": []
    },
    {
      "cell_type": "code",
      "source": [
        "df1['meal'].unique()"
      ],
      "metadata": {
        "id": "89luAiGrkMSC"
      },
      "execution_count": null,
      "outputs": []
    },
    {
      "cell_type": "code",
      "source": [
        "df1['market_segment'].unique()"
      ],
      "metadata": {
        "id": "1wrsNvUTkMV5"
      },
      "execution_count": null,
      "outputs": []
    },
    {
      "cell_type": "code",
      "source": [
        "df1['distribution_channel'].unique()"
      ],
      "metadata": {
        "id": "KDWBMnBrkMaV"
      },
      "execution_count": null,
      "outputs": []
    },
    {
      "cell_type": "code",
      "source": [
        "df1['children'].unique()    # This column has 0 as well as null values"
      ],
      "metadata": {
        "id": "eqolu7t-kjlf"
      },
      "execution_count": null,
      "outputs": []
    },
    {
      "cell_type": "markdown",
      "source": [
        ":## 3. ***Data Wrangling***"
      ],
      "metadata": {
        "id": "dauF4eBmngu3"
      }
    },
    {
      "cell_type": "markdown",
      "source": [
        "### Data Wrangling Code"
      ],
      "metadata": {
        "id": "bKJF3rekwFvQ"
      }
    },
    {
      "cell_type": "code",
      "source": [
        "# Write your code to make your dataset analysis ready."
      ],
      "metadata": {
        "id": "4bkE3efM2X-w"
      },
      "execution_count": null,
      "outputs": []
    },
    {
      "cell_type": "markdown",
      "source": [
        "# **Q1.Which agent makes most no. of bookings?**"
      ],
      "metadata": {
        "id": "il4BdfK3Rl1R"
      }
    },
    {
      "cell_type": "code",
      "source": [
        "d1 = pd.DataFrame(hotel_booking_df['agent'].value_counts()).reset_index().rename(columns = {'index':'agent','agent':'num_of_bookings'}).sort_values(by = 'num_of_bookings', ascending = False)\n",
        "d1.drop(d1[d1['agent'] == 0].index, inplace = True)            # 0 represents that booking is not made by an agent\n",
        "d1 = d1[:10]                                                   # Selecting top 10 performing agents\n",
        "plt.figure(figsize = (10,5))\n",
        "sns.barplot(x = 'agent', y = 'num_of_bookings', data = d1, order = d1.sort_values('num_of_bookings', ascending = False).agent)"
      ],
      "metadata": {
        "id": "HyJgo_izn_cS"
      },
      "execution_count": null,
      "outputs": []
    },
    {
      "cell_type": "markdown",
      "source": [
        " ***Agent no. 9 has made most no. of bookings.***"
      ],
      "metadata": {
        "id": "zrbnhBMe3E2r"
      }
    },
    {
      "cell_type": "markdown",
      "source": [
        "# **Q2.Which meal type is most preffered meal of customers?**\n",
        "\n"
      ],
      "metadata": {
        "id": "v-mSSZhW4NDi"
      }
    },
    {
      "cell_type": "code",
      "source": [
        "plt.figure( figsize=(10, 8))\n",
        "\n",
        "sns.countplot(x = hotel_booking_df['meal'])\n",
        "plt.show()"
      ],
      "metadata": {
        "id": "PI7nvaOioSvX"
      },
      "execution_count": null,
      "outputs": []
    },
    {
      "cell_type": "markdown",
      "source": [
        "***BB (bed and breakfast) is the most prefered type of meal in hotel.***  "
      ],
      "metadata": {
        "id": "Pg448lAZ43uy"
      }
    },
    {
      "cell_type": "markdown",
      "source": [
        "# **Q3.Which is the most common channel for booking hotels?**"
      ],
      "metadata": {
        "id": "Xmh-ijvyhY_J"
      }
    },
    {
      "cell_type": "code",
      "source": [
        "group_by_dc = df1.groupby('distribution_channel')\n",
        "d1 = pd.DataFrame(round((group_by_dc.size()/df1.shape[0])*100,2)).reset_index().rename(columns = {0: 'Booking_%'})\n",
        "plt.figure(figsize = (8,8))\n",
        "data = d1['Booking_%']\n",
        "labels = d1['distribution_channel']\n",
        "plt.pie(x=data, autopct=\"%.2f%%\", explode=[0.05]*5, labels=labels, pctdistance=0.5)\n",
        "plt.title(\"Booking % by distribution channels\", fontsize=14);"
      ],
      "metadata": {
        "id": "SChKNQzhhV_K"
      },
      "execution_count": null,
      "outputs": []
    },
    {
      "cell_type": "markdown",
      "source": [
        "***TA/TO is the most common channel for booking hotels.***"
      ],
      "metadata": {
        "id": "XAyuxMnaoMuv"
      }
    },
    {
      "cell_type": "markdown",
      "source": [
        "# **Q4.How long do people stay at the hotels?**\n",
        "\n",
        "\n",
        "\n"
      ],
      "metadata": {
        "id": "GPrAfwjwoICW"
      }
    },
    {
      "cell_type": "code",
      "source": [
        "filter = df1['is_canceled'] == 0\n",
        "data = df1[filter]\n",
        "data.head()"
      ],
      "metadata": {
        "id": "rUdKQ6jnpJpv"
      },
      "execution_count": null,
      "outputs": []
    },
    {
      "cell_type": "code",
      "source": [
        "data['total_nights'] = data['stays_in_weekend_nights'] + data['stays_in_week_nights']\n",
        "data.head()"
      ],
      "metadata": {
        "id": "wm31G2GFpRdZ"
      },
      "execution_count": null,
      "outputs": []
    },
    {
      "cell_type": "code",
      "source": [
        "stay = data.groupby(['total_nights', 'hotel']).agg('count').reset_index()\n",
        "stay = stay.iloc[:, :3]\n",
        "stay = stay.rename(columns={'is_canceled':'Number of stays'})\n",
        "stay"
      ],
      "metadata": {
        "id": "Hp0XyJmxpW4t"
      },
      "execution_count": null,
      "outputs": []
    },
    {
      "cell_type": "code",
      "source": [
        "plt.figure(figsize = (10,5))\n",
        "sns.barplot(x = 'total_nights', y = 'Number of stays',data= stay,hue='hotel')"
      ],
      "metadata": {
        "id": "xBNSsnKDprqN"
      },
      "execution_count": null,
      "outputs": []
    },
    {
      "cell_type": "markdown",
      "source": [
        "***Most people prefer to stay at hotel for<=4 days.***"
      ],
      "metadata": {
        "id": "gS7Ti37e0rS3"
      }
    },
    {
      "cell_type": "markdown",
      "source": [
        "# **Q5.What is percentage of bookings in each hotel?**\n"
      ],
      "metadata": {
        "id": "N5QrdY38piR8"
      }
    },
    {
      "cell_type": "code",
      "source": [
        "grouped_by_hotel = df1.groupby('hotel')\n",
        "d1 = pd.DataFrame((grouped_by_hotel.size()/df1.shape[0])*100).reset_index().rename(columns = {0:'Booking %'})      #Calculating percentage\n",
        "plt.figure(figsize = (8,5))\n",
        "sns.barplot(x = d1['hotel'], y = d1['Booking %'] )\n",
        "plt.show()"
      ],
      "metadata": {
        "id": "kgjTDTBQp4Oc"
      },
      "execution_count": null,
      "outputs": []
    },
    {
      "cell_type": "markdown",
      "source": [
        "***percentage of booking in City Hotel is 60% and in Resort Hotel is 40%.***"
      ],
      "metadata": {
        "id": "ETYzlEcC00wl"
      }
    },
    {
      "cell_type": "markdown",
      "source": [
        "# **Q6.Which hotel has longer waiting time?**"
      ],
      "metadata": {
        "id": "Q5dN9yJDg-Ud"
      }
    },
    {
      "cell_type": "code",
      "source": [
        "d1 = grouped_by_hotel['adr'].agg(np.mean).reset_index().rename(columns = {'adr':'avg_adr'})   # calculating average adr\n",
        "plt.figure(figsize = (8,5))\n",
        "sns.barplot(x = d1['hotel'], y = d1['avg_adr'] )\n",
        "plt.show()"
      ],
      "metadata": {
        "id": "vqaSL4XAqnOl"
      },
      "execution_count": null,
      "outputs": []
    },
    {
      "cell_type": "markdown",
      "source": [
        "***City hotel has longer waiing time than Resort Hotel.***"
      ],
      "metadata": {
        "id": "8czryJJ-1Do0"
      }
    },
    {
      "cell_type": "markdown",
      "source": [
        "# **Q7.Which hotel has higher bookings cancellation rate?**"
      ],
      "metadata": {
        "id": "k5-avn6Xj3WJ"
      }
    },
    {
      "cell_type": "code",
      "source": [
        "# Selecting and counting number of cancelled bookings for each hotel.\n",
        "cancelled_data = df1[df1['is_canceled'] == 1]\n",
        "cancel_grp = cancelled_data.groupby('hotel')\n",
        "D1 = pd.DataFrame(cancel_grp.size()).rename(columns = {0:'total_cancelled_bookings'})\n",
        "\n",
        "# Counting total number of bookings for each type of hotel\n",
        "grouped_by_hotel = df1.groupby('hotel')\n",
        "total_booking = grouped_by_hotel.size()\n",
        "D2 = pd.DataFrame(total_booking).rename(columns = {0: 'total_bookings'})\n",
        "D3 = pd.concat([D1,D2], axis = 1)\n",
        "\n",
        "# Calculating cancel percentage \n",
        "D3['cancel_%'] = round((D3['total_cancelled_bookings']/D3['total_bookings'])*100,2)\n",
        "D3"
      ],
      "metadata": {
        "id": "Fh_MKjuMqxwl"
      },
      "execution_count": null,
      "outputs": []
    },
    {
      "cell_type": "markdown",
      "source": [
        "***City Hotel has 30% booking cancalation rate.***"
      ],
      "metadata": {
        "id": "UGQ3Frr91QJN"
      }
    },
    {
      "cell_type": "markdown",
      "source": [
        "# **Q8.Which room type is in most demand and which room type generates highest adr?**"
      ],
      "metadata": {
        "id": "cJn-xmd_n01v"
      }
    },
    {
      "cell_type": "code",
      "source": [
        "fig, axes = plt.subplots(1, 2, figsize=(18, 8))\n",
        "\n",
        "grp_by_room = df1.groupby('assigned_room_type')\n",
        "df1['Num_of_bookings'] = grp_by_room.size()\n",
        "\n",
        "sns.countplot(ax = axes[0], x = df1['assigned_room_type'])\n",
        "sns.boxplot(ax = axes[1], x = df1['assigned_room_type'], y = df1['adr'])\n",
        "plt.show()"
      ],
      "metadata": {
        "id": "owe8o6R3rhDw"
      },
      "execution_count": null,
      "outputs": []
    },
    {
      "cell_type": "markdown",
      "source": [
        "***Most demanded room type is A, but better adr rooms are of type H, G and C also***."
      ],
      "metadata": {
        "id": "yLmSx9eVrHxX"
      }
    },
    {
      "cell_type": "markdown",
      "source": [
        "# **Q9.From where most guests are coming?**"
      ],
      "metadata": {
        "id": "a-0e7lL5qi4Y"
      }
    },
    {
      "cell_type": "code",
      "source": [
        "country_wise_guests = df1[df1['is_canceled'] == 0]['country'].value_counts().reset_index()\n",
        "country_wise_guests.columns = ['country', 'No of guests']\n",
        "country_wise_guests"
      ],
      "metadata": {
        "id": "LzIn_eXQrdUU"
      },
      "execution_count": null,
      "outputs": []
    },
    {
      "cell_type": "code",
      "source": [
        "grouped_by_country = df1.groupby('country')\n",
        "d1 = pd.DataFrame(grouped_by_country.size()).reset_index().rename(columns = {0:'Count'}).sort_values('Count', ascending = False)[:10]\n",
        "sns.barplot(x = d1['country'], y  = d1['Count'])\n",
        "plt.show()"
      ],
      "metadata": {
        "id": "ZUTbSCOOrm3l"
      },
      "execution_count": null,
      "outputs": []
    },
    {
      "cell_type": "markdown",
      "source": [
        "***Most of the guest are from Portugal.***"
      ],
      "metadata": {
        "id": "Wg8dAb0Yrn4G"
      }
    },
    {
      "cell_type": "markdown",
      "source": [
        "# **Q10.which hotel seems to make more revenue?**"
      ],
      "metadata": {
        "id": "7KnPAROesbYb"
      }
    },
    {
      "cell_type": "code",
      "source": [
        "grouped_by_hotel = df1.groupby('hotel')\n",
        "d3 = grouped_by_hotel['adr'].agg(np.mean).reset_index().rename(columns = {'adr':'avg_adr'})   # calculating average adr\n",
        "plt.figure(figsize = (8,5))\n",
        "sns.barplot(x = d3['hotel'], y = d3['avg_adr'] )\n",
        "plt.show()"
      ],
      "metadata": {
        "id": "7y3e376EsjfL"
      },
      "execution_count": null,
      "outputs": []
    },
    {
      "cell_type": "markdown",
      "source": [
        "***City hotel seems to be making slightly more revenue.***"
      ],
      "metadata": {
        "id": "eKpiqgQlsndT"
      }
    },
    {
      "cell_type": "markdown",
      "source": [
        "# **Q11.Which hotel has higher lead time?**"
      ],
      "metadata": {
        "id": "BId71CG-s_4K"
      }
    },
    {
      "cell_type": "code",
      "source": [
        "grouped_by_hotel = df1.groupby('hotel')\n",
        "d2 = grouped_by_hotel['lead_time'].median().reset_index()\n",
        "plt.figure(figsize = (8,5))\n",
        "sns.barplot(x = d2['hotel'], y = d2['lead_time'] )\n",
        "plt.show()"
      ],
      "metadata": {
        "id": "koRKBj5yuStu"
      },
      "execution_count": null,
      "outputs": []
    },
    {
      "cell_type": "markdown",
      "source": [
        "***City Hotel has higher lead time than Resort Hotel.***"
      ],
      "metadata": {
        "id": "ffAQ70o9uhYs"
      }
    },
    {
      "cell_type": "markdown",
      "source": [
        "# **Q12.Which significant distribution channel has highest cancellation percentage?**"
      ],
      "metadata": {
        "id": "pN5xZSavwIBV"
      }
    },
    {
      "cell_type": "code",
      "source": [
        "d1 = pd.DataFrame((group_by_dc['is_canceled'].sum()/group_by_dc.size())*100).drop(index = 'Undefined').rename(columns = {0: 'Cancel_%'})\n",
        "plt.figure(figsize = (10,5))\n",
        "sns.barplot(x = d1.index, y = d1['Cancel_%'])\n",
        "plt.show()"
      ],
      "metadata": {
        "id": "KpWBpufQwhMS"
      },
      "execution_count": null,
      "outputs": []
    },
    {
      "cell_type": "markdown",
      "source": [
        "***TA/TO channel has highest cancellation percentage.***"
      ],
      "metadata": {
        "id": "LVsQZalBwlVW"
      }
    },
    {
      "cell_type": "markdown",
      "source": [
        "# ***Q13.which channel is mostly used for early booking of hotels?***"
      ],
      "metadata": {
        "id": "EA7BB9k8iwfM"
      }
    },
    {
      "cell_type": "code",
      "source": [
        "group_by_dc = df1.groupby('distribution_channel')\n",
        "d2 = pd.DataFrame(round(group_by_dc['lead_time'].median(),2)).reset_index().rename(columns = {'lead_time': 'median_lead_time'})\n",
        "plt.figure(figsize = (7,5))\n",
        "sns.barplot(x = d2['distribution_channel'], y = d2['median_lead_time'])\n",
        "plt.show()"
      ],
      "metadata": {
        "id": "y9D4RBgFipL9"
      },
      "execution_count": null,
      "outputs": []
    },
    {
      "cell_type": "markdown",
      "source": [
        "***TA/TO is mostly used for planning hotel visits ahead of time.but sudden visits other medium are most preferred.***"
      ],
      "metadata": {
        "id": "p1x9MWJalB1L"
      }
    },
    {
      "cell_type": "markdown",
      "source": [
        "# **Q14.which channel has longer average waiting time?**"
      ],
      "metadata": {
        "id": "K78Mi9dGmqdI"
      }
    },
    {
      "cell_type": "code",
      "source": [
        "d4 = pd.DataFrame(round((group_by_dc['days_in_waiting_list']).mean(),2)).reset_index().rename(columns = {'days_in_waiting_list': 'avg_waiting_time'})\n",
        "plt.figure(figsize = (7,5))\n",
        "sns.barplot(x = d4['distribution_channel'], y = d4['avg_waiting_time'])\n",
        "plt.show()\n"
      ],
      "metadata": {
        "id": "SN4NGNpCnw2w"
      },
      "execution_count": null,
      "outputs": []
    },
    {
      "cell_type": "markdown",
      "source": [
        "***while booking via TA/TO one may have to wait a little longer to confirm booking of rooms.***"
      ],
      "metadata": {
        "id": "3KyA1iNVojeN"
      }
    },
    {
      "cell_type": "markdown",
      "source": [
        "## ***TA/TO is the most common channel for booking hotels.***"
      ],
      "metadata": {
        "id": "gb4sw7KYIX2c"
      }
    },
    {
      "cell_type": "markdown",
      "source": [
        "## ***4. Data Vizualization, Storytelling & Experimenting with charts : Understand the relationships between variables***"
      ],
      "metadata": {
        "id": "GF8Ens_Soomf"
      }
    },
    {
      "cell_type": "markdown",
      "source": [
        "#### Chart - 14 - Correlation Heatmap"
      ],
      "metadata": {
        "id": "NC_X3p0fY2L0"
      }
    },
    {
      "cell_type": "code",
      "source": [
        "# Correlation Heatmap visualization code"
      ],
      "metadata": {
        "id": "xyC9zolEZNRQ"
      },
      "execution_count": null,
      "outputs": []
    },
    {
      "cell_type": "code",
      "source": [
        "num_df1 = df1[['lead_time','previous_cancellations','previous_bookings_not_canceled','booking_changes','days_in_waiting_list','adr','required_car_parking_spaces','total_of_special_requests','total_stay','total_people']]\n"
      ],
      "metadata": {
        "id": "sRngu5Yd9lUq"
      },
      "execution_count": null,
      "outputs": []
    },
    {
      "cell_type": "code",
      "source": [
        "#correlation matrix\n",
        "corrmat = num_df1.corr()\n",
        "f, ax = plt.subplots(figsize=(12, 7))\n",
        "sns.heatmap(corrmat,annot = True,fmt='.2f', annot_kws={'size': 10},  vmax=.8, square=True);"
      ],
      "metadata": {
        "id": "URue-8vuI-Zq"
      },
      "execution_count": null,
      "outputs": []
    },
    {
      "cell_type": "markdown",
      "source": [
        "(1). Total stay length and lead time have slight correlation. This may means that for longer hotel stays people generally plan little before the the actual arrival.\n",
        "\n",
        "(2). adr is slightly correlated with total_people, which makes sense as more no. of people means more revenue, therefore more adr."
      ],
      "metadata": {
        "id": "UcpCJgoVsxXk"
      }
    },
    {
      "cell_type": "markdown",
      "source": [
        "Lets see does length of stay affects the adr.\n",
        "\n",
        "\n"
      ],
      "metadata": {
        "id": "2ZD8z09otCNp"
      }
    },
    {
      "cell_type": "code",
      "source": [
        "plt.figure(figsize = (12,6))\n",
        "sns.scatterplot(y = 'adr', x = 'total_stay', data = df1)\n",
        "plt.show()"
      ],
      "metadata": {
        "id": "SZmWooRLtFYo"
      },
      "execution_count": null,
      "outputs": []
    },
    {
      "cell_type": "markdown",
      "source": [
        "We notice that there is an outlier in adr, so we will remove that for better scatter plot"
      ],
      "metadata": {
        "id": "BWp6geUvXdTp"
      }
    },
    {
      "cell_type": "code",
      "source": [
        "df1.drop(df1[df1['adr'] > 5000].index, inplace = True)"
      ],
      "metadata": {
        "id": "tiONMgrftNwX"
      },
      "execution_count": null,
      "outputs": []
    },
    {
      "cell_type": "code",
      "source": [
        "plt.figure(figsize = (12,6))\n",
        "sns.scatterplot(y = 'adr', x = 'total_stay', data = df1)\n",
        "plt.show()"
      ],
      "metadata": {
        "id": "Xmm6WygPtSt9"
      },
      "execution_count": null,
      "outputs": []
    },
    {
      "cell_type": "markdown",
      "source": [
        "From the scatter plot we can see that as length of tottal_stay increases the adr decreases. This means for longer stay, the better deal for customer can be finalised."
      ],
      "metadata": {
        "id": "w5bnMPu8kHCi"
      }
    },
    {
      "cell_type": "markdown",
      "source": [
        "#### Chart - 15 - Pair Plot "
      ],
      "metadata": {
        "id": "q29F0dvdveiT"
      }
    },
    {
      "cell_type": "code",
      "source": [
        "# Pair Plot visualization \n",
        "import seaborn\n",
        "import matplotlib.pyplot as plt\n",
        " \n",
        "############# Main Section ############\n",
        "# loading dataset using seaborn\n",
        "df = seaborn.load_dataset('tips')  # The code creates a scatter plot of the tips dataset with hue as day.\n",
        "# pairplot with hue day\n",
        "seaborn.pairplot(df, hue ='day', markers=[\"*\",\"o\",\"s\",\"o\"]) # The input code is too short to provide a detailed and accurate answer. To gain deeper insight, try again using a longer piece of code.\n",
        "# to show\n",
        "plt.show()"
      ],
      "metadata": {
        "id": "o58-TEIhveiU"
      },
      "execution_count": null,
      "outputs": []
    },
    {
      "cell_type": "markdown",
      "source": [
        "##### 1. Why did you pick the specific chart?"
      ],
      "metadata": {
        "id": "EXh0U9oCveiU"
      }
    },
    {
      "cell_type": "markdown",
      "source": [
        "1.A pairs plot allows us to see both distribution of single variables and relationships between two variables.\n",
        "\n",
        "2.The Seaborn Pairplot allows us to plot pairwise relationships between variables within a dataset.\n",
        "\n",
        "3.pairplot() : To plot multiple pairwise bivariate distributions in a dataset.\n",
        "\n"
      ],
      "metadata": {
        "id": "eMmPjTByveiU"
      }
    },
    {
      "cell_type": "markdown",
      "source": [
        "##### 2. What is/are the insight(s) found from the chart?"
      ],
      "metadata": {
        "id": "22aHeOlLveiV"
      }
    },
    {
      "cell_type": "markdown",
      "source": [
        "1.A pairs plot allows us to see both distribution of single variables \n",
        "relationships between two variables. Pair plots are a great method to identify trends for follow-up analysis and, fortunately, are easily implemented in Python.\n",
        "\n",
        "2.for example.the left-most plot in the second row shows the scatter plot of tip versus total_bill.it shows the relation between two variables in sysmatic way.\n",
        "\n",
        "3.just like that the other variables of graphs shows the relation between the two variables like.\n",
        "\n",
        "4.y-axis(total_bill) and x-axis(total_bill): total_bill relation with total_bill\n",
        "  y-axis(total_bill) and x-axis(tip)  total_bill relation with tip\n",
        "  y-axis(total_bill) and x-axis(size) : total_bill relation with size\n",
        "\n",
        "5.y-axis(tip) and x-axis(total_bill) : tip relation with total_bill\n",
        "  y-axis(tipl) and x-axis(tip) : tip relation with tip\n",
        "  y-axis(tip) and x-axis(size) : tip relation with size\n",
        "\n",
        "6.y-axis(size) and x-axis(total_bill) : size relation with total_bill\n",
        "  y-axis(size) and x-axis(tip) : size relation with tip\n",
        "  y-axis(size) and x-axis(size) : size relation with size\n",
        "\n",
        "\n"
      ],
      "metadata": {
        "id": "uPQ8RGwHveiV"
      }
    },
    {
      "cell_type": "markdown",
      "source": [
        "## **5. Solution to Business Objective**"
      ],
      "metadata": {
        "id": "JcMwzZxoAimU"
      }
    },
    {
      "cell_type": "markdown",
      "source": [
        "#### What do you suggest the client to achieve Business Objective ? \n",
        "Explain Briefly."
      ],
      "metadata": {
        "id": "8G2x9gOozGDZ"
      }
    },
    {
      "cell_type": "markdown",
      "source": [
        "1.our goal for this project is predicting which kind of customers need special request and predicting the possibility of a booking for a hotel by knowing different features. This will help the hotel booking company to make better decisions.\n",
        "\n",
        "2.Set Non-refundable Rates, Collect deposits, and implement more rigid cancellation policies.\n",
        "\n",
        "3.Encourage Direct bookings by offering special discounts.\n",
        "\n",
        "4.Monitor where the cancellations are coming from such as Market Segment, distribution channels etc.\n",
        "\n",
        "5.the latest supporting technologies to ensure hotel rooms and services are priced at the right rate regardless ofperiods of high or low demand.\n",
        "\n",
        "6.hoteliers need to ensure that they have detailed data that is both historical and forward looking. \n",
        "\n",
        "7.Any changes in price should be monitored closely for impact on levels of demand. This information can then be used to control demand accordingly, using daily revenue management and pricing strategies."
      ],
      "metadata": {
        "id": "pASKb0qOza21"
      }
    },
    {
      "cell_type": "markdown",
      "source": [
        "# **Conclusion**"
      ],
      "metadata": {
        "id": "gCX9965dhzqZ"
      }
    },
    {
      "cell_type": "markdown",
      "source": [
        "(1) Around 60% bookings are for City hotel and 40% bookings are for Resort hotel, therefore City Hotel is busier than Resort hotel. Also the overall adr of City hotel is slightly higher than Resort hotel.\n",
        "\n",
        " (2) Mostly guests stay for less than 5 days in hotel and for longer stays Resort hotel is preferred.\n",
        "\n",
        "  (3) Both hotels have significantly higher booking cancellation rates and very few guests less than 3 % return for another booking in City hotel. 5% guests return for stay in Resort hotel.\n",
        "\n",
        "   (4) Most of the guests came from european countries, with most of guests coming from Portugal. \n",
        "\n",
        "   (5) Guests use different channels for making bookings out of which most preferred way is TA/TO. \n",
        "\n",
        "   (6) For hotels higher adr deals come via GDS channel, so hotels should increase their popularity on this channel.\n",
        "\n",
        "   (7) Not getting same room as reserved, longer lead time and waiting time do not affect cancellation of bookings. Although different room allotment do lowers the adr.\n",
        "\n",
        "  (8)BB (bed and breakfast) is the most prefered type of meal in hotel. \n",
        "\n",
        "  (9)For customers, generally the longer stays (more than 15 days) can result in better deals in terms of low adr.\n",
        "\n",
        "   (10)TA/TO is the most common channel for booking hotels.\n",
        "\n",
        "   (11).City hotel seems to be making more revenue than Resort hotel.\n",
        "\n",
        "(12).Most guests are coming from portugal.\n",
        "\n",
        "(13).Most Demand room type is A,but better adr rooms are of type H,G and c.\n",
        "\n",
        "(14).The hotel which has higher lead time is City hotel.\n",
        "TA/To channel has highest cancellation percentage.\n",
        "\n",
        "(15). (1)Total stay length and lead time have slight correlation. This may means that for longer hotel stays people generally plan little before the the actual arrival (2).adr is slightly correlated with total_people, which makes sense as more no. of people means more revenue, therefore more adr.\n",
        "\n",
        "(16) (1).A pairs plot allows us to see both distribution of single variables relationships between two variables. Pair plots are a great method to identify trends for follow-up analysis and, fortunately, are easily implemented in Python.\n",
        "\n",
        "2.for example.the left-most plot in the second row shows the scatter plot of tip versus total_bill.it shows the relation between two variables in sysmatic way.\n",
        "\n",
        "3.just like that the other variables of graphs shows the relation between the two variables like.\n",
        "\n",
        "4.y-axis(total_bill) and x-axis(total_bill): total_bill relation with total_bill y-axis(total_bill) and x-axis(tip) total_bill relation with tip y-axis(total_bill) and x-axis(size) : total_bill relation with size\n",
        "\n",
        "5.y-axis(tip) and x-axis(total_bill) : tip relation with total_bill y-axis(tipl) and x-axis(tip) : tip relation with tip y-axis(tip) and x-axis(size) : tip relation with size\n",
        "\n",
        "6.y-axis(size) and x-axis(total_bill) : size relation with total_bill y-axis(size) and x-axis(tip) : size relation with tip y-axis(size) and x-axis(size) : size relation with size\n",
        "\n"
      ],
      "metadata": {
        "id": "Fjb1IsQkh3yE"
      }
    },
    {
      "cell_type": "markdown",
      "source": [
        "### ***Hurrah! You have successfully completed your EDA Capstone Project !!!***"
      ],
      "metadata": {
        "id": "gIfDvo9L0UH2"
      }
    }
  ]
}